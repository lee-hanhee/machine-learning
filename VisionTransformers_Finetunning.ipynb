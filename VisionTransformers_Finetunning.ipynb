{
  "nbformat": 4,
  "nbformat_minor": 0,
  "metadata": {
    "colab": {
      "provenance": [],
      "gpuType": "T4",
      "include_colab_link": true
    },
    "kernelspec": {
      "name": "python3",
      "display_name": "Python 3"
    },
    "language_info": {
      "name": "python"
    },
    "accelerator": "GPU",
    "widgets": {
      "application/vnd.jupyter.widget-state+json": {
        "d1d1e9fa21fc475d873dc9324fdad655": {
          "model_module": "@jupyter-widgets/controls",
          "model_name": "HBoxModel",
          "model_module_version": "1.5.0",
          "state": {
            "_dom_classes": [],
            "_model_module": "@jupyter-widgets/controls",
            "_model_module_version": "1.5.0",
            "_model_name": "HBoxModel",
            "_view_count": null,
            "_view_module": "@jupyter-widgets/controls",
            "_view_module_version": "1.5.0",
            "_view_name": "HBoxView",
            "box_style": "",
            "children": [
              "IPY_MODEL_c3eba1f7a6434739a309117532f17000",
              "IPY_MODEL_4e95a92e4ae243dea061fba9bc159f44",
              "IPY_MODEL_6c95f0b23a0544e7ac1cea16531de14c"
            ],
            "layout": "IPY_MODEL_e768c460433246f785086d0e209c6b3f"
          }
        },
        "c3eba1f7a6434739a309117532f17000": {
          "model_module": "@jupyter-widgets/controls",
          "model_name": "HTMLModel",
          "model_module_version": "1.5.0",
          "state": {
            "_dom_classes": [],
            "_model_module": "@jupyter-widgets/controls",
            "_model_module_version": "1.5.0",
            "_model_name": "HTMLModel",
            "_view_count": null,
            "_view_module": "@jupyter-widgets/controls",
            "_view_module_version": "1.5.0",
            "_view_name": "HTMLView",
            "description": "",
            "description_tooltip": null,
            "layout": "IPY_MODEL_5710a29520d04fa0a674312bfd695511",
            "placeholder": "​",
            "style": "IPY_MODEL_485721df024642d99cdbb29e7eae734e",
            "value": "model.safetensors: 100%"
          }
        },
        "4e95a92e4ae243dea061fba9bc159f44": {
          "model_module": "@jupyter-widgets/controls",
          "model_name": "FloatProgressModel",
          "model_module_version": "1.5.0",
          "state": {
            "_dom_classes": [],
            "_model_module": "@jupyter-widgets/controls",
            "_model_module_version": "1.5.0",
            "_model_name": "FloatProgressModel",
            "_view_count": null,
            "_view_module": "@jupyter-widgets/controls",
            "_view_module_version": "1.5.0",
            "_view_name": "ProgressView",
            "bar_style": "success",
            "description": "",
            "description_tooltip": null,
            "layout": "IPY_MODEL_146f197b75414a24a8747406e8d8c69e",
            "max": 46807446,
            "min": 0,
            "orientation": "horizontal",
            "style": "IPY_MODEL_d2d6290412214e22833e7609fff369fd",
            "value": 46807446
          }
        },
        "6c95f0b23a0544e7ac1cea16531de14c": {
          "model_module": "@jupyter-widgets/controls",
          "model_name": "HTMLModel",
          "model_module_version": "1.5.0",
          "state": {
            "_dom_classes": [],
            "_model_module": "@jupyter-widgets/controls",
            "_model_module_version": "1.5.0",
            "_model_name": "HTMLModel",
            "_view_count": null,
            "_view_module": "@jupyter-widgets/controls",
            "_view_module_version": "1.5.0",
            "_view_name": "HTMLView",
            "description": "",
            "description_tooltip": null,
            "layout": "IPY_MODEL_90bcea7d9c344bf8b76df655d60b715f",
            "placeholder": "​",
            "style": "IPY_MODEL_6c59923e41c64a09b019501a49b86480",
            "value": " 46.8M/46.8M [00:00&lt;00:00, 95.3MB/s]"
          }
        },
        "e768c460433246f785086d0e209c6b3f": {
          "model_module": "@jupyter-widgets/base",
          "model_name": "LayoutModel",
          "model_module_version": "1.2.0",
          "state": {
            "_model_module": "@jupyter-widgets/base",
            "_model_module_version": "1.2.0",
            "_model_name": "LayoutModel",
            "_view_count": null,
            "_view_module": "@jupyter-widgets/base",
            "_view_module_version": "1.2.0",
            "_view_name": "LayoutView",
            "align_content": null,
            "align_items": null,
            "align_self": null,
            "border": null,
            "bottom": null,
            "display": null,
            "flex": null,
            "flex_flow": null,
            "grid_area": null,
            "grid_auto_columns": null,
            "grid_auto_flow": null,
            "grid_auto_rows": null,
            "grid_column": null,
            "grid_gap": null,
            "grid_row": null,
            "grid_template_areas": null,
            "grid_template_columns": null,
            "grid_template_rows": null,
            "height": null,
            "justify_content": null,
            "justify_items": null,
            "left": null,
            "margin": null,
            "max_height": null,
            "max_width": null,
            "min_height": null,
            "min_width": null,
            "object_fit": null,
            "object_position": null,
            "order": null,
            "overflow": null,
            "overflow_x": null,
            "overflow_y": null,
            "padding": null,
            "right": null,
            "top": null,
            "visibility": null,
            "width": null
          }
        },
        "5710a29520d04fa0a674312bfd695511": {
          "model_module": "@jupyter-widgets/base",
          "model_name": "LayoutModel",
          "model_module_version": "1.2.0",
          "state": {
            "_model_module": "@jupyter-widgets/base",
            "_model_module_version": "1.2.0",
            "_model_name": "LayoutModel",
            "_view_count": null,
            "_view_module": "@jupyter-widgets/base",
            "_view_module_version": "1.2.0",
            "_view_name": "LayoutView",
            "align_content": null,
            "align_items": null,
            "align_self": null,
            "border": null,
            "bottom": null,
            "display": null,
            "flex": null,
            "flex_flow": null,
            "grid_area": null,
            "grid_auto_columns": null,
            "grid_auto_flow": null,
            "grid_auto_rows": null,
            "grid_column": null,
            "grid_gap": null,
            "grid_row": null,
            "grid_template_areas": null,
            "grid_template_columns": null,
            "grid_template_rows": null,
            "height": null,
            "justify_content": null,
            "justify_items": null,
            "left": null,
            "margin": null,
            "max_height": null,
            "max_width": null,
            "min_height": null,
            "min_width": null,
            "object_fit": null,
            "object_position": null,
            "order": null,
            "overflow": null,
            "overflow_x": null,
            "overflow_y": null,
            "padding": null,
            "right": null,
            "top": null,
            "visibility": null,
            "width": null
          }
        },
        "485721df024642d99cdbb29e7eae734e": {
          "model_module": "@jupyter-widgets/controls",
          "model_name": "DescriptionStyleModel",
          "model_module_version": "1.5.0",
          "state": {
            "_model_module": "@jupyter-widgets/controls",
            "_model_module_version": "1.5.0",
            "_model_name": "DescriptionStyleModel",
            "_view_count": null,
            "_view_module": "@jupyter-widgets/base",
            "_view_module_version": "1.2.0",
            "_view_name": "StyleView",
            "description_width": ""
          }
        },
        "146f197b75414a24a8747406e8d8c69e": {
          "model_module": "@jupyter-widgets/base",
          "model_name": "LayoutModel",
          "model_module_version": "1.2.0",
          "state": {
            "_model_module": "@jupyter-widgets/base",
            "_model_module_version": "1.2.0",
            "_model_name": "LayoutModel",
            "_view_count": null,
            "_view_module": "@jupyter-widgets/base",
            "_view_module_version": "1.2.0",
            "_view_name": "LayoutView",
            "align_content": null,
            "align_items": null,
            "align_self": null,
            "border": null,
            "bottom": null,
            "display": null,
            "flex": null,
            "flex_flow": null,
            "grid_area": null,
            "grid_auto_columns": null,
            "grid_auto_flow": null,
            "grid_auto_rows": null,
            "grid_column": null,
            "grid_gap": null,
            "grid_row": null,
            "grid_template_areas": null,
            "grid_template_columns": null,
            "grid_template_rows": null,
            "height": null,
            "justify_content": null,
            "justify_items": null,
            "left": null,
            "margin": null,
            "max_height": null,
            "max_width": null,
            "min_height": null,
            "min_width": null,
            "object_fit": null,
            "object_position": null,
            "order": null,
            "overflow": null,
            "overflow_x": null,
            "overflow_y": null,
            "padding": null,
            "right": null,
            "top": null,
            "visibility": null,
            "width": null
          }
        },
        "d2d6290412214e22833e7609fff369fd": {
          "model_module": "@jupyter-widgets/controls",
          "model_name": "ProgressStyleModel",
          "model_module_version": "1.5.0",
          "state": {
            "_model_module": "@jupyter-widgets/controls",
            "_model_module_version": "1.5.0",
            "_model_name": "ProgressStyleModel",
            "_view_count": null,
            "_view_module": "@jupyter-widgets/base",
            "_view_module_version": "1.2.0",
            "_view_name": "StyleView",
            "bar_color": null,
            "description_width": ""
          }
        },
        "90bcea7d9c344bf8b76df655d60b715f": {
          "model_module": "@jupyter-widgets/base",
          "model_name": "LayoutModel",
          "model_module_version": "1.2.0",
          "state": {
            "_model_module": "@jupyter-widgets/base",
            "_model_module_version": "1.2.0",
            "_model_name": "LayoutModel",
            "_view_count": null,
            "_view_module": "@jupyter-widgets/base",
            "_view_module_version": "1.2.0",
            "_view_name": "LayoutView",
            "align_content": null,
            "align_items": null,
            "align_self": null,
            "border": null,
            "bottom": null,
            "display": null,
            "flex": null,
            "flex_flow": null,
            "grid_area": null,
            "grid_auto_columns": null,
            "grid_auto_flow": null,
            "grid_auto_rows": null,
            "grid_column": null,
            "grid_gap": null,
            "grid_row": null,
            "grid_template_areas": null,
            "grid_template_columns": null,
            "grid_template_rows": null,
            "height": null,
            "justify_content": null,
            "justify_items": null,
            "left": null,
            "margin": null,
            "max_height": null,
            "max_width": null,
            "min_height": null,
            "min_width": null,
            "object_fit": null,
            "object_position": null,
            "order": null,
            "overflow": null,
            "overflow_x": null,
            "overflow_y": null,
            "padding": null,
            "right": null,
            "top": null,
            "visibility": null,
            "width": null
          }
        },
        "6c59923e41c64a09b019501a49b86480": {
          "model_module": "@jupyter-widgets/controls",
          "model_name": "DescriptionStyleModel",
          "model_module_version": "1.5.0",
          "state": {
            "_model_module": "@jupyter-widgets/controls",
            "_model_module_version": "1.5.0",
            "_model_name": "DescriptionStyleModel",
            "_view_count": null,
            "_view_module": "@jupyter-widgets/base",
            "_view_module_version": "1.2.0",
            "_view_name": "StyleView",
            "description_width": ""
          }
        }
      }
    }
  },
  "cells": [
    {
      "cell_type": "markdown",
      "metadata": {
        "id": "view-in-github",
        "colab_type": "text"
      },
      "source": [
        "<a href=\"https://colab.research.google.com/github/lee-hanhee/Machine-Learning/blob/main/VisionTransformers_Finetunning.ipynb\" target=\"_parent\"><img src=\"https://colab.research.google.com/assets/colab-badge.svg\" alt=\"Open In Colab\"/></a>"
      ]
    },
    {
      "cell_type": "markdown",
      "source": [
        "# Install necessary libraries\n"
      ],
      "metadata": {
        "id": "m2ATmQU_bQQc"
      }
    },
    {
      "cell_type": "code",
      "source": [
        "!pip install torch torchvision timm xgboost scikit-learn pandas tqdm torchinfo"
      ],
      "metadata": {
        "colab": {
          "base_uri": "https://localhost:8080/"
        },
        "id": "1bQLPPrdbQZQ",
        "outputId": "ff79e890-2201-4e10-d2f7-d6bfb3d120e5"
      },
      "execution_count": null,
      "outputs": [
        {
          "output_type": "stream",
          "name": "stdout",
          "text": [
            "Requirement already satisfied: torch in /usr/local/lib/python3.11/dist-packages (2.5.1+cu124)\n",
            "Requirement already satisfied: torchvision in /usr/local/lib/python3.11/dist-packages (0.20.1+cu124)\n",
            "Requirement already satisfied: timm in /usr/local/lib/python3.11/dist-packages (1.0.15)\n",
            "Requirement already satisfied: xgboost in /usr/local/lib/python3.11/dist-packages (2.1.4)\n",
            "Requirement already satisfied: scikit-learn in /usr/local/lib/python3.11/dist-packages (1.6.1)\n",
            "Requirement already satisfied: pandas in /usr/local/lib/python3.11/dist-packages (2.2.2)\n",
            "Requirement already satisfied: tqdm in /usr/local/lib/python3.11/dist-packages (4.67.1)\n",
            "Collecting torchinfo\n",
            "  Downloading torchinfo-1.8.0-py3-none-any.whl.metadata (21 kB)\n",
            "Requirement already satisfied: filelock in /usr/local/lib/python3.11/dist-packages (from torch) (3.17.0)\n",
            "Requirement already satisfied: typing-extensions>=4.8.0 in /usr/local/lib/python3.11/dist-packages (from torch) (4.12.2)\n",
            "Requirement already satisfied: networkx in /usr/local/lib/python3.11/dist-packages (from torch) (3.4.2)\n",
            "Requirement already satisfied: jinja2 in /usr/local/lib/python3.11/dist-packages (from torch) (3.1.6)\n",
            "Requirement already satisfied: fsspec in /usr/local/lib/python3.11/dist-packages (from torch) (2024.10.0)\n",
            "Collecting nvidia-cuda-nvrtc-cu12==12.4.127 (from torch)\n",
            "  Downloading nvidia_cuda_nvrtc_cu12-12.4.127-py3-none-manylinux2014_x86_64.whl.metadata (1.5 kB)\n",
            "Collecting nvidia-cuda-runtime-cu12==12.4.127 (from torch)\n",
            "  Downloading nvidia_cuda_runtime_cu12-12.4.127-py3-none-manylinux2014_x86_64.whl.metadata (1.5 kB)\n",
            "Collecting nvidia-cuda-cupti-cu12==12.4.127 (from torch)\n",
            "  Downloading nvidia_cuda_cupti_cu12-12.4.127-py3-none-manylinux2014_x86_64.whl.metadata (1.6 kB)\n",
            "Collecting nvidia-cudnn-cu12==9.1.0.70 (from torch)\n",
            "  Downloading nvidia_cudnn_cu12-9.1.0.70-py3-none-manylinux2014_x86_64.whl.metadata (1.6 kB)\n",
            "Collecting nvidia-cublas-cu12==12.4.5.8 (from torch)\n",
            "  Downloading nvidia_cublas_cu12-12.4.5.8-py3-none-manylinux2014_x86_64.whl.metadata (1.5 kB)\n",
            "Collecting nvidia-cufft-cu12==11.2.1.3 (from torch)\n",
            "  Downloading nvidia_cufft_cu12-11.2.1.3-py3-none-manylinux2014_x86_64.whl.metadata (1.5 kB)\n",
            "Collecting nvidia-curand-cu12==10.3.5.147 (from torch)\n",
            "  Downloading nvidia_curand_cu12-10.3.5.147-py3-none-manylinux2014_x86_64.whl.metadata (1.5 kB)\n",
            "Collecting nvidia-cusolver-cu12==11.6.1.9 (from torch)\n",
            "  Downloading nvidia_cusolver_cu12-11.6.1.9-py3-none-manylinux2014_x86_64.whl.metadata (1.6 kB)\n",
            "Collecting nvidia-cusparse-cu12==12.3.1.170 (from torch)\n",
            "  Downloading nvidia_cusparse_cu12-12.3.1.170-py3-none-manylinux2014_x86_64.whl.metadata (1.6 kB)\n",
            "Requirement already satisfied: nvidia-nccl-cu12==2.21.5 in /usr/local/lib/python3.11/dist-packages (from torch) (2.21.5)\n",
            "Requirement already satisfied: nvidia-nvtx-cu12==12.4.127 in /usr/local/lib/python3.11/dist-packages (from torch) (12.4.127)\n",
            "Collecting nvidia-nvjitlink-cu12==12.4.127 (from torch)\n",
            "  Downloading nvidia_nvjitlink_cu12-12.4.127-py3-none-manylinux2014_x86_64.whl.metadata (1.5 kB)\n",
            "Requirement already satisfied: triton==3.1.0 in /usr/local/lib/python3.11/dist-packages (from torch) (3.1.0)\n",
            "Requirement already satisfied: sympy==1.13.1 in /usr/local/lib/python3.11/dist-packages (from torch) (1.13.1)\n",
            "Requirement already satisfied: mpmath<1.4,>=1.1.0 in /usr/local/lib/python3.11/dist-packages (from sympy==1.13.1->torch) (1.3.0)\n",
            "Requirement already satisfied: numpy in /usr/local/lib/python3.11/dist-packages (from torchvision) (1.26.4)\n",
            "Requirement already satisfied: pillow!=8.3.*,>=5.3.0 in /usr/local/lib/python3.11/dist-packages (from torchvision) (11.1.0)\n",
            "Requirement already satisfied: pyyaml in /usr/local/lib/python3.11/dist-packages (from timm) (6.0.2)\n",
            "Requirement already satisfied: huggingface_hub in /usr/local/lib/python3.11/dist-packages (from timm) (0.28.1)\n",
            "Requirement already satisfied: safetensors in /usr/local/lib/python3.11/dist-packages (from timm) (0.5.3)\n",
            "Requirement already satisfied: scipy in /usr/local/lib/python3.11/dist-packages (from xgboost) (1.14.1)\n",
            "Requirement already satisfied: joblib>=1.2.0 in /usr/local/lib/python3.11/dist-packages (from scikit-learn) (1.4.2)\n",
            "Requirement already satisfied: threadpoolctl>=3.1.0 in /usr/local/lib/python3.11/dist-packages (from scikit-learn) (3.5.0)\n",
            "Requirement already satisfied: python-dateutil>=2.8.2 in /usr/local/lib/python3.11/dist-packages (from pandas) (2.8.2)\n",
            "Requirement already satisfied: pytz>=2020.1 in /usr/local/lib/python3.11/dist-packages (from pandas) (2025.1)\n",
            "Requirement already satisfied: tzdata>=2022.7 in /usr/local/lib/python3.11/dist-packages (from pandas) (2025.1)\n",
            "Requirement already satisfied: six>=1.5 in /usr/local/lib/python3.11/dist-packages (from python-dateutil>=2.8.2->pandas) (1.17.0)\n",
            "Requirement already satisfied: packaging>=20.9 in /usr/local/lib/python3.11/dist-packages (from huggingface_hub->timm) (24.2)\n",
            "Requirement already satisfied: requests in /usr/local/lib/python3.11/dist-packages (from huggingface_hub->timm) (2.32.3)\n",
            "Requirement already satisfied: MarkupSafe>=2.0 in /usr/local/lib/python3.11/dist-packages (from jinja2->torch) (3.0.2)\n",
            "Requirement already satisfied: charset-normalizer<4,>=2 in /usr/local/lib/python3.11/dist-packages (from requests->huggingface_hub->timm) (3.4.1)\n",
            "Requirement already satisfied: idna<4,>=2.5 in /usr/local/lib/python3.11/dist-packages (from requests->huggingface_hub->timm) (3.10)\n",
            "Requirement already satisfied: urllib3<3,>=1.21.1 in /usr/local/lib/python3.11/dist-packages (from requests->huggingface_hub->timm) (2.3.0)\n",
            "Requirement already satisfied: certifi>=2017.4.17 in /usr/local/lib/python3.11/dist-packages (from requests->huggingface_hub->timm) (2025.1.31)\n",
            "Downloading nvidia_cublas_cu12-12.4.5.8-py3-none-manylinux2014_x86_64.whl (363.4 MB)\n",
            "\u001b[2K   \u001b[90m━━━━━━━━━━━━━━━━━━━━━━━━━━━━━━━━━━━━━━━━\u001b[0m \u001b[32m363.4/363.4 MB\u001b[0m \u001b[31m1.9 MB/s\u001b[0m eta \u001b[36m0:00:00\u001b[0m\n",
            "\u001b[?25hDownloading nvidia_cuda_cupti_cu12-12.4.127-py3-none-manylinux2014_x86_64.whl (13.8 MB)\n",
            "\u001b[2K   \u001b[90m━━━━━━━━━━━━━━━━━━━━━━━━━━━━━━━━━━━━━━━━\u001b[0m \u001b[32m13.8/13.8 MB\u001b[0m \u001b[31m27.1 MB/s\u001b[0m eta \u001b[36m0:00:00\u001b[0m\n",
            "\u001b[?25hDownloading nvidia_cuda_nvrtc_cu12-12.4.127-py3-none-manylinux2014_x86_64.whl (24.6 MB)\n",
            "\u001b[2K   \u001b[90m━━━━━━━━━━━━━━━━━━━━━━━━━━━━━━━━━━━━━━━━\u001b[0m \u001b[32m24.6/24.6 MB\u001b[0m \u001b[31m34.3 MB/s\u001b[0m eta \u001b[36m0:00:00\u001b[0m\n",
            "\u001b[?25hDownloading nvidia_cuda_runtime_cu12-12.4.127-py3-none-manylinux2014_x86_64.whl (883 kB)\n",
            "\u001b[2K   \u001b[90m━━━━━━━━━━━━━━━━━━━━━━━━━━━━━━━━━━━━━━━━\u001b[0m \u001b[32m883.7/883.7 kB\u001b[0m \u001b[31m21.9 MB/s\u001b[0m eta \u001b[36m0:00:00\u001b[0m\n",
            "\u001b[?25hDownloading nvidia_cudnn_cu12-9.1.0.70-py3-none-manylinux2014_x86_64.whl (664.8 MB)\n",
            "\u001b[2K   \u001b[90m━━━━━━━━━━━━━━━━━━━━━━━━━━━━━━━━━━━━━━━━\u001b[0m \u001b[32m664.8/664.8 MB\u001b[0m \u001b[31m2.6 MB/s\u001b[0m eta \u001b[36m0:00:00\u001b[0m\n",
            "\u001b[?25hDownloading nvidia_cufft_cu12-11.2.1.3-py3-none-manylinux2014_x86_64.whl (211.5 MB)\n",
            "\u001b[2K   \u001b[90m━━━━━━━━━━━━━━━━━━━━━━━━━━━━━━━━━━━━━━━━\u001b[0m \u001b[32m211.5/211.5 MB\u001b[0m \u001b[31m5.9 MB/s\u001b[0m eta \u001b[36m0:00:00\u001b[0m\n",
            "\u001b[?25hDownloading nvidia_curand_cu12-10.3.5.147-py3-none-manylinux2014_x86_64.whl (56.3 MB)\n",
            "\u001b[2K   \u001b[90m━━━━━━━━━━━━━━━━━━━━━━━━━━━━━━━━━━━━━━━━\u001b[0m \u001b[32m56.3/56.3 MB\u001b[0m \u001b[31m10.5 MB/s\u001b[0m eta \u001b[36m0:00:00\u001b[0m\n",
            "\u001b[?25hDownloading nvidia_cusolver_cu12-11.6.1.9-py3-none-manylinux2014_x86_64.whl (127.9 MB)\n",
            "\u001b[2K   \u001b[90m━━━━━━━━━━━━━━━━━━━━━━━━━━━━━━━━━━━━━━━━\u001b[0m \u001b[32m127.9/127.9 MB\u001b[0m \u001b[31m8.8 MB/s\u001b[0m eta \u001b[36m0:00:00\u001b[0m\n",
            "\u001b[?25hDownloading nvidia_cusparse_cu12-12.3.1.170-py3-none-manylinux2014_x86_64.whl (207.5 MB)\n",
            "\u001b[2K   \u001b[90m━━━━━━━━━━━━━━━━━━━━━━━━━━━━━━━━━━━━━━━━\u001b[0m \u001b[32m207.5/207.5 MB\u001b[0m \u001b[31m6.9 MB/s\u001b[0m eta \u001b[36m0:00:00\u001b[0m\n",
            "\u001b[?25hDownloading nvidia_nvjitlink_cu12-12.4.127-py3-none-manylinux2014_x86_64.whl (21.1 MB)\n",
            "\u001b[2K   \u001b[90m━━━━━━━━━━━━━━━━━━━━━━━━━━━━━━━━━━━━━━━━\u001b[0m \u001b[32m21.1/21.1 MB\u001b[0m \u001b[31m57.7 MB/s\u001b[0m eta \u001b[36m0:00:00\u001b[0m\n",
            "\u001b[?25hDownloading torchinfo-1.8.0-py3-none-any.whl (23 kB)\n",
            "Installing collected packages: torchinfo, nvidia-nvjitlink-cu12, nvidia-curand-cu12, nvidia-cufft-cu12, nvidia-cuda-runtime-cu12, nvidia-cuda-nvrtc-cu12, nvidia-cuda-cupti-cu12, nvidia-cublas-cu12, nvidia-cusparse-cu12, nvidia-cudnn-cu12, nvidia-cusolver-cu12\n",
            "  Attempting uninstall: nvidia-nvjitlink-cu12\n",
            "    Found existing installation: nvidia-nvjitlink-cu12 12.5.82\n",
            "    Uninstalling nvidia-nvjitlink-cu12-12.5.82:\n",
            "      Successfully uninstalled nvidia-nvjitlink-cu12-12.5.82\n",
            "  Attempting uninstall: nvidia-curand-cu12\n",
            "    Found existing installation: nvidia-curand-cu12 10.3.6.82\n",
            "    Uninstalling nvidia-curand-cu12-10.3.6.82:\n",
            "      Successfully uninstalled nvidia-curand-cu12-10.3.6.82\n",
            "  Attempting uninstall: nvidia-cufft-cu12\n",
            "    Found existing installation: nvidia-cufft-cu12 11.2.3.61\n",
            "    Uninstalling nvidia-cufft-cu12-11.2.3.61:\n",
            "      Successfully uninstalled nvidia-cufft-cu12-11.2.3.61\n",
            "  Attempting uninstall: nvidia-cuda-runtime-cu12\n",
            "    Found existing installation: nvidia-cuda-runtime-cu12 12.5.82\n",
            "    Uninstalling nvidia-cuda-runtime-cu12-12.5.82:\n",
            "      Successfully uninstalled nvidia-cuda-runtime-cu12-12.5.82\n",
            "  Attempting uninstall: nvidia-cuda-nvrtc-cu12\n",
            "    Found existing installation: nvidia-cuda-nvrtc-cu12 12.5.82\n",
            "    Uninstalling nvidia-cuda-nvrtc-cu12-12.5.82:\n",
            "      Successfully uninstalled nvidia-cuda-nvrtc-cu12-12.5.82\n",
            "  Attempting uninstall: nvidia-cuda-cupti-cu12\n",
            "    Found existing installation: nvidia-cuda-cupti-cu12 12.5.82\n",
            "    Uninstalling nvidia-cuda-cupti-cu12-12.5.82:\n",
            "      Successfully uninstalled nvidia-cuda-cupti-cu12-12.5.82\n",
            "  Attempting uninstall: nvidia-cublas-cu12\n",
            "    Found existing installation: nvidia-cublas-cu12 12.5.3.2\n",
            "    Uninstalling nvidia-cublas-cu12-12.5.3.2:\n",
            "      Successfully uninstalled nvidia-cublas-cu12-12.5.3.2\n",
            "  Attempting uninstall: nvidia-cusparse-cu12\n",
            "    Found existing installation: nvidia-cusparse-cu12 12.5.1.3\n",
            "    Uninstalling nvidia-cusparse-cu12-12.5.1.3:\n",
            "      Successfully uninstalled nvidia-cusparse-cu12-12.5.1.3\n",
            "  Attempting uninstall: nvidia-cudnn-cu12\n",
            "    Found existing installation: nvidia-cudnn-cu12 9.3.0.75\n",
            "    Uninstalling nvidia-cudnn-cu12-9.3.0.75:\n",
            "      Successfully uninstalled nvidia-cudnn-cu12-9.3.0.75\n",
            "  Attempting uninstall: nvidia-cusolver-cu12\n",
            "    Found existing installation: nvidia-cusolver-cu12 11.6.3.83\n",
            "    Uninstalling nvidia-cusolver-cu12-11.6.3.83:\n",
            "      Successfully uninstalled nvidia-cusolver-cu12-11.6.3.83\n",
            "Successfully installed nvidia-cublas-cu12-12.4.5.8 nvidia-cuda-cupti-cu12-12.4.127 nvidia-cuda-nvrtc-cu12-12.4.127 nvidia-cuda-runtime-cu12-12.4.127 nvidia-cudnn-cu12-9.1.0.70 nvidia-cufft-cu12-11.2.1.3 nvidia-curand-cu12-10.3.5.147 nvidia-cusolver-cu12-11.6.1.9 nvidia-cusparse-cu12-12.3.1.170 nvidia-nvjitlink-cu12-12.4.127 torchinfo-1.8.0\n"
          ]
        }
      ]
    },
    {
      "cell_type": "markdown",
      "source": [
        "# Basic imports"
      ],
      "metadata": {
        "id": "sMQcfGvAb7CN"
      }
    },
    {
      "cell_type": "code",
      "source": [
        "import numpy as np\n",
        "import xgboost as xgb\n",
        "import sklearn.model_selection\n",
        "import sklearn.metrics\n",
        "import pandas as pd\n",
        "import tqdm\n",
        "\n",
        "import torch\n",
        "import torchvision\n",
        "import torchvision.transforms as transforms\n",
        "import torch.nn as nn\n",
        "import torch.optim as optim\n",
        "import torchinfo\n",
        "import timm\n",
        "\n",
        "device = torch.device('cuda' if torch.cuda.is_available() else 'cpu')"
      ],
      "metadata": {
        "id": "9XSeiZ5Db2mH"
      },
      "execution_count": null,
      "outputs": []
    },
    {
      "cell_type": "markdown",
      "source": [
        "# 1. Data Loading and Preprocessing\n",
        "# Fashion-MNIST dataset\n"
      ],
      "metadata": {
        "id": "9Y7D1bc7b_Mc"
      }
    },
    {
      "cell_type": "code",
      "source": [
        "transform = transforms.Compose([\n",
        "    transforms.Resize((224, 224)),  # Resize for ResNet and ViT\n",
        "    transforms.Grayscale(num_output_channels=3),  # Convert to 3-channel grayscale\n",
        "    transforms.ToTensor(),\n",
        "    transforms.Normalize((0.5, 0.5, 0.5), (0.5, 0.5, 0.5))  # Normalize for 3 channels\n",
        "])\n",
        "\n",
        "trainset = torchvision.datasets.FashionMNIST(root='./data', train=True,\n",
        "                                        download=True, transform=transform)\n",
        "trainloader = torch.utils.data.DataLoader(trainset, batch_size=64,\n",
        "                                          shuffle=True, num_workers=2)\n",
        "\n",
        "testset = torchvision.datasets.FashionMNIST(root='./data', train=False,\n",
        "                                       download=True, transform=transform)\n",
        "testloader = torch.utils.data.DataLoader(testset, batch_size=64,\n",
        "                                         shuffle=False, num_workers=2) # shuffle=False important for embeddings\n",
        "\n",
        "classes = ['T-shirt/top', 'Trouser', 'Pullover', 'Dress', 'Coat',\n",
        "           'Sandal', 'Shirt', 'Sneaker', 'Bag', 'Ankle boot']"
      ],
      "metadata": {
        "colab": {
          "base_uri": "https://localhost:8080/"
        },
        "id": "iRnSI419cAfL",
        "outputId": "46e560a5-ab79-4b70-9357-041660baec46"
      },
      "execution_count": null,
      "outputs": [
        {
          "output_type": "stream",
          "name": "stdout",
          "text": [
            "Downloading http://fashion-mnist.s3-website.eu-central-1.amazonaws.com/train-images-idx3-ubyte.gz\n",
            "Downloading http://fashion-mnist.s3-website.eu-central-1.amazonaws.com/train-images-idx3-ubyte.gz to ./data/FashionMNIST/raw/train-images-idx3-ubyte.gz\n"
          ]
        },
        {
          "output_type": "stream",
          "name": "stderr",
          "text": [
            "100%|██████████| 26.4M/26.4M [00:02<00:00, 12.7MB/s]\n"
          ]
        },
        {
          "output_type": "stream",
          "name": "stdout",
          "text": [
            "Extracting ./data/FashionMNIST/raw/train-images-idx3-ubyte.gz to ./data/FashionMNIST/raw\n",
            "\n",
            "Downloading http://fashion-mnist.s3-website.eu-central-1.amazonaws.com/train-labels-idx1-ubyte.gz\n",
            "Downloading http://fashion-mnist.s3-website.eu-central-1.amazonaws.com/train-labels-idx1-ubyte.gz to ./data/FashionMNIST/raw/train-labels-idx1-ubyte.gz\n"
          ]
        },
        {
          "output_type": "stream",
          "name": "stderr",
          "text": [
            "100%|██████████| 29.5k/29.5k [00:00<00:00, 203kB/s]\n"
          ]
        },
        {
          "output_type": "stream",
          "name": "stdout",
          "text": [
            "Extracting ./data/FashionMNIST/raw/train-labels-idx1-ubyte.gz to ./data/FashionMNIST/raw\n",
            "\n",
            "Downloading http://fashion-mnist.s3-website.eu-central-1.amazonaws.com/t10k-images-idx3-ubyte.gz\n",
            "Downloading http://fashion-mnist.s3-website.eu-central-1.amazonaws.com/t10k-images-idx3-ubyte.gz to ./data/FashionMNIST/raw/t10k-images-idx3-ubyte.gz\n"
          ]
        },
        {
          "output_type": "stream",
          "name": "stderr",
          "text": [
            "100%|██████████| 4.42M/4.42M [00:01<00:00, 3.80MB/s]\n"
          ]
        },
        {
          "output_type": "stream",
          "name": "stdout",
          "text": [
            "Extracting ./data/FashionMNIST/raw/t10k-images-idx3-ubyte.gz to ./data/FashionMNIST/raw\n",
            "\n",
            "Downloading http://fashion-mnist.s3-website.eu-central-1.amazonaws.com/t10k-labels-idx1-ubyte.gz\n",
            "Downloading http://fashion-mnist.s3-website.eu-central-1.amazonaws.com/t10k-labels-idx1-ubyte.gz to ./data/FashionMNIST/raw/t10k-labels-idx1-ubyte.gz\n"
          ]
        },
        {
          "output_type": "stream",
          "name": "stderr",
          "text": [
            "100%|██████████| 5.15k/5.15k [00:00<00:00, 16.5MB/s]"
          ]
        },
        {
          "output_type": "stream",
          "name": "stdout",
          "text": [
            "Extracting ./data/FashionMNIST/raw/t10k-labels-idx1-ubyte.gz to ./data/FashionMNIST/raw\n",
            "\n"
          ]
        },
        {
          "output_type": "stream",
          "name": "stderr",
          "text": [
            "\n"
          ]
        }
      ]
    },
    {
      "cell_type": "markdown",
      "source": [
        "# 2. Model Definitions\n",
        "# ResNet18 (pretrained) - Finetuning and Embedding\n"
      ],
      "metadata": {
        "id": "i9s3Cz_lcDm3"
      }
    },
    {
      "cell_type": "code",
      "source": [
        "resnet18_ft = timm.create_model('resnet18', pretrained=True, num_classes=10)  # Finetuning\n",
        "resnet18_ft = resnet18_ft.to(device)\n",
        "# Freeze all layers except the last one\n",
        "for name, param in resnet18_ft.named_parameters():\n",
        "    if name == 'fc.weight' or name == 'fc.bias':  # For ResNet, the last layer is usually 'fc'\n",
        "        param.requires_grad = True  # Unfreeze the last layer\n",
        "    else:\n",
        "        param.requires_grad = False # Freeze all other layers\n",
        "\n",
        "\n",
        "resnet18_emb = timm.create_model('resnet18', pretrained=True, num_classes=0) # Embedding\n",
        "resnet18_emb = resnet18_emb.to(device)\n",
        "resnet18_emb.eval()\n",
        "torchinfo.summary(resnet18_ft, input_size=(1, 3, 224, 224))\n",
        "# 5130 - 10 (bias term since 10 classes) = 5120/10 (# of classes) = 512"
      ],
      "metadata": {
        "colab": {
          "base_uri": "https://localhost:8080/",
          "height": 1000,
          "referenced_widgets": [
            "d1d1e9fa21fc475d873dc9324fdad655",
            "c3eba1f7a6434739a309117532f17000",
            "4e95a92e4ae243dea061fba9bc159f44",
            "6c95f0b23a0544e7ac1cea16531de14c",
            "e768c460433246f785086d0e209c6b3f",
            "5710a29520d04fa0a674312bfd695511",
            "485721df024642d99cdbb29e7eae734e",
            "146f197b75414a24a8747406e8d8c69e",
            "d2d6290412214e22833e7609fff369fd",
            "90bcea7d9c344bf8b76df655d60b715f",
            "6c59923e41c64a09b019501a49b86480"
          ]
        },
        "id": "Sa52XNiAcEQt",
        "outputId": "661c3a7b-0549-4622-98b2-3e085519bb6c"
      },
      "execution_count": null,
      "outputs": [
        {
          "output_type": "stream",
          "name": "stderr",
          "text": [
            "/usr/local/lib/python3.11/dist-packages/huggingface_hub/utils/_auth.py:94: UserWarning: \n",
            "The secret `HF_TOKEN` does not exist in your Colab secrets.\n",
            "To authenticate with the Hugging Face Hub, create a token in your settings tab (https://huggingface.co/settings/tokens), set it as secret in your Google Colab and restart your session.\n",
            "You will be able to reuse this secret in all of your notebooks.\n",
            "Please note that authentication is recommended but still optional to access public models or datasets.\n",
            "  warnings.warn(\n"
          ]
        },
        {
          "output_type": "display_data",
          "data": {
            "text/plain": [
              "model.safetensors:   0%|          | 0.00/46.8M [00:00<?, ?B/s]"
            ],
            "application/vnd.jupyter.widget-view+json": {
              "version_major": 2,
              "version_minor": 0,
              "model_id": "d1d1e9fa21fc475d873dc9324fdad655"
            }
          },
          "metadata": {}
        },
        {
          "output_type": "execute_result",
          "data": {
            "text/plain": [
              "==========================================================================================\n",
              "Layer (type:depth-idx)                   Output Shape              Param #\n",
              "==========================================================================================\n",
              "ResNet                                   [1, 10]                   --\n",
              "├─Conv2d: 1-1                            [1, 64, 112, 112]         (9,408)\n",
              "├─BatchNorm2d: 1-2                       [1, 64, 112, 112]         (128)\n",
              "├─ReLU: 1-3                              [1, 64, 112, 112]         --\n",
              "├─MaxPool2d: 1-4                         [1, 64, 56, 56]           --\n",
              "├─Sequential: 1-5                        [1, 64, 56, 56]           --\n",
              "│    └─BasicBlock: 2-1                   [1, 64, 56, 56]           --\n",
              "│    │    └─Conv2d: 3-1                  [1, 64, 56, 56]           (36,864)\n",
              "│    │    └─BatchNorm2d: 3-2             [1, 64, 56, 56]           (128)\n",
              "│    │    └─Identity: 3-3                [1, 64, 56, 56]           --\n",
              "│    │    └─ReLU: 3-4                    [1, 64, 56, 56]           --\n",
              "│    │    └─Identity: 3-5                [1, 64, 56, 56]           --\n",
              "│    │    └─Conv2d: 3-6                  [1, 64, 56, 56]           (36,864)\n",
              "│    │    └─BatchNorm2d: 3-7             [1, 64, 56, 56]           (128)\n",
              "│    │    └─ReLU: 3-8                    [1, 64, 56, 56]           --\n",
              "│    └─BasicBlock: 2-2                   [1, 64, 56, 56]           --\n",
              "│    │    └─Conv2d: 3-9                  [1, 64, 56, 56]           (36,864)\n",
              "│    │    └─BatchNorm2d: 3-10            [1, 64, 56, 56]           (128)\n",
              "│    │    └─Identity: 3-11               [1, 64, 56, 56]           --\n",
              "│    │    └─ReLU: 3-12                   [1, 64, 56, 56]           --\n",
              "│    │    └─Identity: 3-13               [1, 64, 56, 56]           --\n",
              "│    │    └─Conv2d: 3-14                 [1, 64, 56, 56]           (36,864)\n",
              "│    │    └─BatchNorm2d: 3-15            [1, 64, 56, 56]           (128)\n",
              "│    │    └─ReLU: 3-16                   [1, 64, 56, 56]           --\n",
              "├─Sequential: 1-6                        [1, 128, 28, 28]          --\n",
              "│    └─BasicBlock: 2-3                   [1, 128, 28, 28]          --\n",
              "│    │    └─Conv2d: 3-17                 [1, 128, 28, 28]          (73,728)\n",
              "│    │    └─BatchNorm2d: 3-18            [1, 128, 28, 28]          (256)\n",
              "│    │    └─Identity: 3-19               [1, 128, 28, 28]          --\n",
              "│    │    └─ReLU: 3-20                   [1, 128, 28, 28]          --\n",
              "│    │    └─Identity: 3-21               [1, 128, 28, 28]          --\n",
              "│    │    └─Conv2d: 3-22                 [1, 128, 28, 28]          (147,456)\n",
              "│    │    └─BatchNorm2d: 3-23            [1, 128, 28, 28]          (256)\n",
              "│    │    └─Sequential: 3-24             [1, 128, 28, 28]          (8,448)\n",
              "│    │    └─ReLU: 3-25                   [1, 128, 28, 28]          --\n",
              "│    └─BasicBlock: 2-4                   [1, 128, 28, 28]          --\n",
              "│    │    └─Conv2d: 3-26                 [1, 128, 28, 28]          (147,456)\n",
              "│    │    └─BatchNorm2d: 3-27            [1, 128, 28, 28]          (256)\n",
              "│    │    └─Identity: 3-28               [1, 128, 28, 28]          --\n",
              "│    │    └─ReLU: 3-29                   [1, 128, 28, 28]          --\n",
              "│    │    └─Identity: 3-30               [1, 128, 28, 28]          --\n",
              "│    │    └─Conv2d: 3-31                 [1, 128, 28, 28]          (147,456)\n",
              "│    │    └─BatchNorm2d: 3-32            [1, 128, 28, 28]          (256)\n",
              "│    │    └─ReLU: 3-33                   [1, 128, 28, 28]          --\n",
              "├─Sequential: 1-7                        [1, 256, 14, 14]          --\n",
              "│    └─BasicBlock: 2-5                   [1, 256, 14, 14]          --\n",
              "│    │    └─Conv2d: 3-34                 [1, 256, 14, 14]          (294,912)\n",
              "│    │    └─BatchNorm2d: 3-35            [1, 256, 14, 14]          (512)\n",
              "│    │    └─Identity: 3-36               [1, 256, 14, 14]          --\n",
              "│    │    └─ReLU: 3-37                   [1, 256, 14, 14]          --\n",
              "│    │    └─Identity: 3-38               [1, 256, 14, 14]          --\n",
              "│    │    └─Conv2d: 3-39                 [1, 256, 14, 14]          (589,824)\n",
              "│    │    └─BatchNorm2d: 3-40            [1, 256, 14, 14]          (512)\n",
              "│    │    └─Sequential: 3-41             [1, 256, 14, 14]          (33,280)\n",
              "│    │    └─ReLU: 3-42                   [1, 256, 14, 14]          --\n",
              "│    └─BasicBlock: 2-6                   [1, 256, 14, 14]          --\n",
              "│    │    └─Conv2d: 3-43                 [1, 256, 14, 14]          (589,824)\n",
              "│    │    └─BatchNorm2d: 3-44            [1, 256, 14, 14]          (512)\n",
              "│    │    └─Identity: 3-45               [1, 256, 14, 14]          --\n",
              "│    │    └─ReLU: 3-46                   [1, 256, 14, 14]          --\n",
              "│    │    └─Identity: 3-47               [1, 256, 14, 14]          --\n",
              "│    │    └─Conv2d: 3-48                 [1, 256, 14, 14]          (589,824)\n",
              "│    │    └─BatchNorm2d: 3-49            [1, 256, 14, 14]          (512)\n",
              "│    │    └─ReLU: 3-50                   [1, 256, 14, 14]          --\n",
              "├─Sequential: 1-8                        [1, 512, 7, 7]            --\n",
              "│    └─BasicBlock: 2-7                   [1, 512, 7, 7]            --\n",
              "│    │    └─Conv2d: 3-51                 [1, 512, 7, 7]            (1,179,648)\n",
              "│    │    └─BatchNorm2d: 3-52            [1, 512, 7, 7]            (1,024)\n",
              "│    │    └─Identity: 3-53               [1, 512, 7, 7]            --\n",
              "│    │    └─ReLU: 3-54                   [1, 512, 7, 7]            --\n",
              "│    │    └─Identity: 3-55               [1, 512, 7, 7]            --\n",
              "│    │    └─Conv2d: 3-56                 [1, 512, 7, 7]            (2,359,296)\n",
              "│    │    └─BatchNorm2d: 3-57            [1, 512, 7, 7]            (1,024)\n",
              "│    │    └─Sequential: 3-58             [1, 512, 7, 7]            (132,096)\n",
              "│    │    └─ReLU: 3-59                   [1, 512, 7, 7]            --\n",
              "│    └─BasicBlock: 2-8                   [1, 512, 7, 7]            --\n",
              "│    │    └─Conv2d: 3-60                 [1, 512, 7, 7]            (2,359,296)\n",
              "│    │    └─BatchNorm2d: 3-61            [1, 512, 7, 7]            (1,024)\n",
              "│    │    └─Identity: 3-62               [1, 512, 7, 7]            --\n",
              "│    │    └─ReLU: 3-63                   [1, 512, 7, 7]            --\n",
              "│    │    └─Identity: 3-64               [1, 512, 7, 7]            --\n",
              "│    │    └─Conv2d: 3-65                 [1, 512, 7, 7]            (2,359,296)\n",
              "│    │    └─BatchNorm2d: 3-66            [1, 512, 7, 7]            (1,024)\n",
              "│    │    └─ReLU: 3-67                   [1, 512, 7, 7]            --\n",
              "├─SelectAdaptivePool2d: 1-9              [1, 512]                  --\n",
              "│    └─AdaptiveAvgPool2d: 2-9            [1, 512, 1, 1]            --\n",
              "│    └─Flatten: 2-10                     [1, 512]                  --\n",
              "├─Linear: 1-10                           [1, 10]                   5,130\n",
              "==========================================================================================\n",
              "Total params: 11,181,642\n",
              "Trainable params: 5,130\n",
              "Non-trainable params: 11,176,512\n",
              "Total mult-adds (Units.GIGABYTES): 1.81\n",
              "==========================================================================================\n",
              "Input size (MB): 0.60\n",
              "Forward/backward pass size (MB): 39.74\n",
              "Params size (MB): 44.73\n",
              "Estimated Total Size (MB): 85.07\n",
              "=========================================================================================="
            ]
          },
          "metadata": {},
          "execution_count": 4
        }
      ]
    },
    {
      "cell_type": "markdown",
      "source": [
        "# ViT-Base (pretrained) - Finetuning and Embedding"
      ],
      "metadata": {
        "id": "Il-JVXF-cJ_L"
      }
    },
    {
      "cell_type": "code",
      "source": [
        "vit_ft = timm.create_model('vit_tiny_patch16_224', pretrained=True, num_classes=10) # Finetuning\n",
        "vit_ft = vit_ft.to(device)\n",
        "# Freeze all layers except the last one\n",
        "for name, param in vit_ft.named_parameters():\n",
        "   if 'head' in name: #For ViT, the last layer is usually 'head'\n",
        "       param.requires_grad = True\n",
        "   else:\n",
        "       param.requires_grad = False\n",
        "\n",
        "vit_emb = timm.create_model('vit_tiny_patch16_224', pretrained=True, num_classes=0) # Embedding\n",
        "vit_emb = vit_emb.to(device)\n",
        "vit_emb.eval()\n",
        "torchinfo.summary(vit_ft, input_size=(1, 3, 224, 224))\n",
        "1930 - 10 = 1920 /10 = 192"
      ],
      "metadata": {
        "colab": {
          "base_uri": "https://localhost:8080/"
        },
        "id": "0D3JqDcocLfg",
        "outputId": "1be981ba-f593-4759-9007-fbdafb404835"
      },
      "execution_count": null,
      "outputs": [
        {
          "output_type": "execute_result",
          "data": {
            "text/plain": [
              "==========================================================================================\n",
              "Layer (type:depth-idx)                   Output Shape              Param #\n",
              "==========================================================================================\n",
              "VisionTransformer                        [1, 10]                   38,016\n",
              "├─PatchEmbed: 1-1                        [1, 196, 192]             --\n",
              "│    └─Conv2d: 2-1                       [1, 192, 14, 14]          (147,648)\n",
              "│    └─Identity: 2-2                     [1, 196, 192]             --\n",
              "├─Dropout: 1-2                           [1, 197, 192]             --\n",
              "├─Identity: 1-3                          [1, 197, 192]             --\n",
              "├─Identity: 1-4                          [1, 197, 192]             --\n",
              "├─Sequential: 1-5                        [1, 197, 192]             --\n",
              "│    └─Block: 2-3                        [1, 197, 192]             --\n",
              "│    │    └─LayerNorm: 3-1               [1, 197, 192]             (384)\n",
              "│    │    └─Attention: 3-2               [1, 197, 192]             (148,224)\n",
              "│    │    └─Identity: 3-3                [1, 197, 192]             --\n",
              "│    │    └─Identity: 3-4                [1, 197, 192]             --\n",
              "│    │    └─LayerNorm: 3-5               [1, 197, 192]             (384)\n",
              "│    │    └─Mlp: 3-6                     [1, 197, 192]             (295,872)\n",
              "│    │    └─Identity: 3-7                [1, 197, 192]             --\n",
              "│    │    └─Identity: 3-8                [1, 197, 192]             --\n",
              "│    └─Block: 2-4                        [1, 197, 192]             --\n",
              "│    │    └─LayerNorm: 3-9               [1, 197, 192]             (384)\n",
              "│    │    └─Attention: 3-10              [1, 197, 192]             (148,224)\n",
              "│    │    └─Identity: 3-11               [1, 197, 192]             --\n",
              "│    │    └─Identity: 3-12               [1, 197, 192]             --\n",
              "│    │    └─LayerNorm: 3-13              [1, 197, 192]             (384)\n",
              "│    │    └─Mlp: 3-14                    [1, 197, 192]             (295,872)\n",
              "│    │    └─Identity: 3-15               [1, 197, 192]             --\n",
              "│    │    └─Identity: 3-16               [1, 197, 192]             --\n",
              "│    └─Block: 2-5                        [1, 197, 192]             --\n",
              "│    │    └─LayerNorm: 3-17              [1, 197, 192]             (384)\n",
              "│    │    └─Attention: 3-18              [1, 197, 192]             (148,224)\n",
              "│    │    └─Identity: 3-19               [1, 197, 192]             --\n",
              "│    │    └─Identity: 3-20               [1, 197, 192]             --\n",
              "│    │    └─LayerNorm: 3-21              [1, 197, 192]             (384)\n",
              "│    │    └─Mlp: 3-22                    [1, 197, 192]             (295,872)\n",
              "│    │    └─Identity: 3-23               [1, 197, 192]             --\n",
              "│    │    └─Identity: 3-24               [1, 197, 192]             --\n",
              "│    └─Block: 2-6                        [1, 197, 192]             --\n",
              "│    │    └─LayerNorm: 3-25              [1, 197, 192]             (384)\n",
              "│    │    └─Attention: 3-26              [1, 197, 192]             (148,224)\n",
              "│    │    └─Identity: 3-27               [1, 197, 192]             --\n",
              "│    │    └─Identity: 3-28               [1, 197, 192]             --\n",
              "│    │    └─LayerNorm: 3-29              [1, 197, 192]             (384)\n",
              "│    │    └─Mlp: 3-30                    [1, 197, 192]             (295,872)\n",
              "│    │    └─Identity: 3-31               [1, 197, 192]             --\n",
              "│    │    └─Identity: 3-32               [1, 197, 192]             --\n",
              "│    └─Block: 2-7                        [1, 197, 192]             --\n",
              "│    │    └─LayerNorm: 3-33              [1, 197, 192]             (384)\n",
              "│    │    └─Attention: 3-34              [1, 197, 192]             (148,224)\n",
              "│    │    └─Identity: 3-35               [1, 197, 192]             --\n",
              "│    │    └─Identity: 3-36               [1, 197, 192]             --\n",
              "│    │    └─LayerNorm: 3-37              [1, 197, 192]             (384)\n",
              "│    │    └─Mlp: 3-38                    [1, 197, 192]             (295,872)\n",
              "│    │    └─Identity: 3-39               [1, 197, 192]             --\n",
              "│    │    └─Identity: 3-40               [1, 197, 192]             --\n",
              "│    └─Block: 2-8                        [1, 197, 192]             --\n",
              "│    │    └─LayerNorm: 3-41              [1, 197, 192]             (384)\n",
              "│    │    └─Attention: 3-42              [1, 197, 192]             (148,224)\n",
              "│    │    └─Identity: 3-43               [1, 197, 192]             --\n",
              "│    │    └─Identity: 3-44               [1, 197, 192]             --\n",
              "│    │    └─LayerNorm: 3-45              [1, 197, 192]             (384)\n",
              "│    │    └─Mlp: 3-46                    [1, 197, 192]             (295,872)\n",
              "│    │    └─Identity: 3-47               [1, 197, 192]             --\n",
              "│    │    └─Identity: 3-48               [1, 197, 192]             --\n",
              "│    └─Block: 2-9                        [1, 197, 192]             --\n",
              "│    │    └─LayerNorm: 3-49              [1, 197, 192]             (384)\n",
              "│    │    └─Attention: 3-50              [1, 197, 192]             (148,224)\n",
              "│    │    └─Identity: 3-51               [1, 197, 192]             --\n",
              "│    │    └─Identity: 3-52               [1, 197, 192]             --\n",
              "│    │    └─LayerNorm: 3-53              [1, 197, 192]             (384)\n",
              "│    │    └─Mlp: 3-54                    [1, 197, 192]             (295,872)\n",
              "│    │    └─Identity: 3-55               [1, 197, 192]             --\n",
              "│    │    └─Identity: 3-56               [1, 197, 192]             --\n",
              "│    └─Block: 2-10                       [1, 197, 192]             --\n",
              "│    │    └─LayerNorm: 3-57              [1, 197, 192]             (384)\n",
              "│    │    └─Attention: 3-58              [1, 197, 192]             (148,224)\n",
              "│    │    └─Identity: 3-59               [1, 197, 192]             --\n",
              "│    │    └─Identity: 3-60               [1, 197, 192]             --\n",
              "│    │    └─LayerNorm: 3-61              [1, 197, 192]             (384)\n",
              "│    │    └─Mlp: 3-62                    [1, 197, 192]             (295,872)\n",
              "│    │    └─Identity: 3-63               [1, 197, 192]             --\n",
              "│    │    └─Identity: 3-64               [1, 197, 192]             --\n",
              "│    └─Block: 2-11                       [1, 197, 192]             --\n",
              "│    │    └─LayerNorm: 3-65              [1, 197, 192]             (384)\n",
              "│    │    └─Attention: 3-66              [1, 197, 192]             (148,224)\n",
              "│    │    └─Identity: 3-67               [1, 197, 192]             --\n",
              "│    │    └─Identity: 3-68               [1, 197, 192]             --\n",
              "│    │    └─LayerNorm: 3-69              [1, 197, 192]             (384)\n",
              "│    │    └─Mlp: 3-70                    [1, 197, 192]             (295,872)\n",
              "│    │    └─Identity: 3-71               [1, 197, 192]             --\n",
              "│    │    └─Identity: 3-72               [1, 197, 192]             --\n",
              "│    └─Block: 2-12                       [1, 197, 192]             --\n",
              "│    │    └─LayerNorm: 3-73              [1, 197, 192]             (384)\n",
              "│    │    └─Attention: 3-74              [1, 197, 192]             (148,224)\n",
              "│    │    └─Identity: 3-75               [1, 197, 192]             --\n",
              "│    │    └─Identity: 3-76               [1, 197, 192]             --\n",
              "│    │    └─LayerNorm: 3-77              [1, 197, 192]             (384)\n",
              "│    │    └─Mlp: 3-78                    [1, 197, 192]             (295,872)\n",
              "│    │    └─Identity: 3-79               [1, 197, 192]             --\n",
              "│    │    └─Identity: 3-80               [1, 197, 192]             --\n",
              "│    └─Block: 2-13                       [1, 197, 192]             --\n",
              "│    │    └─LayerNorm: 3-81              [1, 197, 192]             (384)\n",
              "│    │    └─Attention: 3-82              [1, 197, 192]             (148,224)\n",
              "│    │    └─Identity: 3-83               [1, 197, 192]             --\n",
              "│    │    └─Identity: 3-84               [1, 197, 192]             --\n",
              "│    │    └─LayerNorm: 3-85              [1, 197, 192]             (384)\n",
              "│    │    └─Mlp: 3-86                    [1, 197, 192]             (295,872)\n",
              "│    │    └─Identity: 3-87               [1, 197, 192]             --\n",
              "│    │    └─Identity: 3-88               [1, 197, 192]             --\n",
              "│    └─Block: 2-14                       [1, 197, 192]             --\n",
              "│    │    └─LayerNorm: 3-89              [1, 197, 192]             (384)\n",
              "│    │    └─Attention: 3-90              [1, 197, 192]             (148,224)\n",
              "│    │    └─Identity: 3-91               [1, 197, 192]             --\n",
              "│    │    └─Identity: 3-92               [1, 197, 192]             --\n",
              "│    │    └─LayerNorm: 3-93              [1, 197, 192]             (384)\n",
              "│    │    └─Mlp: 3-94                    [1, 197, 192]             (295,872)\n",
              "│    │    └─Identity: 3-95               [1, 197, 192]             --\n",
              "│    │    └─Identity: 3-96               [1, 197, 192]             --\n",
              "├─LayerNorm: 1-6                         [1, 197, 192]             (384)\n",
              "├─Identity: 1-7                          [1, 192]                  --\n",
              "├─Dropout: 1-8                           [1, 192]                  --\n",
              "├─Linear: 1-9                            [1, 10]                   1,930\n",
              "==========================================================================================\n",
              "Total params: 5,526,346\n",
              "Trainable params: 1,930\n",
              "Non-trainable params: 5,524,416\n",
              "Total mult-adds (Units.MEGABYTES): 34.28\n",
              "==========================================================================================\n",
              "Input size (MB): 0.60\n",
              "Forward/backward pass size (MB): 40.55\n",
              "Params size (MB): 21.95\n",
              "Estimated Total Size (MB): 63.10\n",
              "=========================================================================================="
            ]
          },
          "metadata": {},
          "execution_count": 27
        }
      ]
    },
    {
      "cell_type": "markdown",
      "source": [
        "# 3. Loss Function and Optimizers"
      ],
      "metadata": {
        "id": "0NJrl8QOcT9J"
      }
    },
    {
      "cell_type": "code",
      "source": [
        "criterion = nn.CrossEntropyLoss()\n",
        "# Optimizers\n",
        "optimizer_resnet_ft = optim.Adam(filter(lambda p: p.requires_grad, resnet18_ft.parameters()), lr=0.001)\n",
        "optimizer_vit_ft = optim.Adam(filter(lambda p: p.requires_grad, vit_ft.parameters()), lr=0.001)"
      ],
      "metadata": {
        "id": "O2Sz29KxcUHC"
      },
      "execution_count": null,
      "outputs": []
    },
    {
      "cell_type": "markdown",
      "source": [
        "# 4. Training Loop (Finetuning)"
      ],
      "metadata": {
        "id": "lB7kRVCbc2_Z"
      }
    },
    {
      "cell_type": "code",
      "source": [
        "def train(model, trainloader, optimizer, criterion, device, epochs=2):\n",
        "    for epoch in range(epochs):\n",
        "        running_loss = 0.0\n",
        "        for i, data in enumerate(tqdm.tqdm(trainloader, desc=f\"Epoch {epoch+1}\"), 0): # Use tqdm\n",
        "            inputs, labels = data[0].to(device), data[1].to(device)\n",
        "            optimizer.zero_grad()\n",
        "            outputs = model(inputs)\n",
        "            loss = criterion(outputs, labels)\n",
        "            loss.backward()\n",
        "            optimizer.step()\n",
        "            running_loss += loss.item()\n",
        "            if i % 200 == 199:\n",
        "                print(f'[{epoch + 1}, {i + 1:5d}] loss: {running_loss / 200:.3f}')\n",
        "                running_loss = 0.0\n",
        "    print('Finished Training')\n",
        "\n",
        "print(\"Starting ResNet18 Finetuning...\")\n",
        "train(resnet18_ft, trainloader, optimizer_resnet_ft, criterion, device, epochs=2)\n",
        "\n",
        "print(\"Starting ViT-Tiny Finetuning...\")\n",
        "train(vit_ft, trainloader, optimizer_vit_ft, criterion, device, epochs=2)"
      ],
      "metadata": {
        "colab": {
          "base_uri": "https://localhost:8080/"
        },
        "id": "M1IEhDw3c3IA",
        "outputId": "7f1ad4db-f3d0-42f2-9e6f-2171107570c5"
      },
      "execution_count": null,
      "outputs": [
        {
          "output_type": "stream",
          "name": "stdout",
          "text": [
            "Starting ResNet18 Finetuning...\n"
          ]
        },
        {
          "output_type": "stream",
          "name": "stderr",
          "text": [
            "Epoch 1:  21%|██▏       | 201/938 [00:24<01:20,  9.20it/s]"
          ]
        },
        {
          "output_type": "stream",
          "name": "stdout",
          "text": [
            "[1,   200] loss: 0.522\n"
          ]
        },
        {
          "output_type": "stream",
          "name": "stderr",
          "text": [
            "Epoch 1:  43%|████▎     | 401/938 [00:50<00:58,  9.13it/s]"
          ]
        },
        {
          "output_type": "stream",
          "name": "stdout",
          "text": [
            "[1,   400] loss: 0.525\n"
          ]
        },
        {
          "output_type": "stream",
          "name": "stderr",
          "text": [
            "Epoch 1:  64%|██████▍   | 601/938 [01:14<00:36,  9.33it/s]"
          ]
        },
        {
          "output_type": "stream",
          "name": "stdout",
          "text": [
            "[1,   600] loss: 0.517\n"
          ]
        },
        {
          "output_type": "stream",
          "name": "stderr",
          "text": [
            "Epoch 1:  85%|████████▌ | 801/938 [01:40<00:15,  8.61it/s]"
          ]
        },
        {
          "output_type": "stream",
          "name": "stdout",
          "text": [
            "[1,   800] loss: 0.499\n"
          ]
        },
        {
          "output_type": "stream",
          "name": "stderr",
          "text": [
            "Epoch 1: 100%|██████████| 938/938 [01:57<00:00,  8.00it/s]\n",
            "Epoch 2:  21%|██▏       | 201/938 [00:25<01:27,  8.47it/s]"
          ]
        },
        {
          "output_type": "stream",
          "name": "stdout",
          "text": [
            "[2,   200] loss: 0.476\n"
          ]
        },
        {
          "output_type": "stream",
          "name": "stderr",
          "text": [
            "Epoch 2:  43%|████▎     | 401/938 [00:51<01:07,  7.99it/s]"
          ]
        },
        {
          "output_type": "stream",
          "name": "stdout",
          "text": [
            "[2,   400] loss: 0.493\n"
          ]
        },
        {
          "output_type": "stream",
          "name": "stderr",
          "text": [
            "Epoch 2:  64%|██████▍   | 601/938 [01:16<00:37,  8.98it/s]"
          ]
        },
        {
          "output_type": "stream",
          "name": "stdout",
          "text": [
            "[2,   600] loss: 0.480\n"
          ]
        },
        {
          "output_type": "stream",
          "name": "stderr",
          "text": [
            "Epoch 2:  85%|████████▌ | 800/938 [01:41<00:17,  7.75it/s]"
          ]
        },
        {
          "output_type": "stream",
          "name": "stdout",
          "text": [
            "[2,   800] loss: 0.472\n"
          ]
        },
        {
          "output_type": "stream",
          "name": "stderr",
          "text": [
            "Epoch 2: 100%|██████████| 938/938 [01:59<00:00,  7.82it/s]\n"
          ]
        },
        {
          "output_type": "stream",
          "name": "stdout",
          "text": [
            "Finished Training\n",
            "Starting ViT-Tiny Finetuning...\n"
          ]
        },
        {
          "output_type": "stream",
          "name": "stderr",
          "text": [
            "Epoch 1:  21%|██▏       | 201/938 [00:26<01:29,  8.22it/s]"
          ]
        },
        {
          "output_type": "stream",
          "name": "stdout",
          "text": [
            "[1,   200] loss: 0.600\n"
          ]
        },
        {
          "output_type": "stream",
          "name": "stderr",
          "text": [
            "Epoch 1:  43%|████▎     | 401/938 [00:52<01:10,  7.59it/s]"
          ]
        },
        {
          "output_type": "stream",
          "name": "stdout",
          "text": [
            "[1,   400] loss: 0.380\n"
          ]
        },
        {
          "output_type": "stream",
          "name": "stderr",
          "text": [
            "Epoch 1:  64%|██████▍   | 601/938 [01:18<00:40,  8.35it/s]"
          ]
        },
        {
          "output_type": "stream",
          "name": "stdout",
          "text": [
            "[1,   600] loss: 0.344\n"
          ]
        },
        {
          "output_type": "stream",
          "name": "stderr",
          "text": [
            "Epoch 1:  85%|████████▌ | 801/938 [01:44<00:15,  9.09it/s]"
          ]
        },
        {
          "output_type": "stream",
          "name": "stdout",
          "text": [
            "[1,   800] loss: 0.339\n"
          ]
        },
        {
          "output_type": "stream",
          "name": "stderr",
          "text": [
            "Epoch 1: 100%|██████████| 938/938 [02:02<00:00,  7.66it/s]\n",
            "Epoch 2:  21%|██▏       | 200/938 [00:26<01:34,  7.82it/s]"
          ]
        },
        {
          "output_type": "stream",
          "name": "stdout",
          "text": [
            "[2,   200] loss: 0.319\n"
          ]
        },
        {
          "output_type": "stream",
          "name": "stderr",
          "text": [
            "Epoch 2:  43%|████▎     | 400/938 [00:53<01:33,  5.73it/s]"
          ]
        },
        {
          "output_type": "stream",
          "name": "stdout",
          "text": [
            "[2,   400] loss: 0.343\n"
          ]
        },
        {
          "output_type": "stream",
          "name": "stderr",
          "text": [
            "Epoch 2:  64%|██████▍   | 601/938 [01:20<00:49,  6.87it/s]"
          ]
        },
        {
          "output_type": "stream",
          "name": "stdout",
          "text": [
            "[2,   600] loss: 0.310\n"
          ]
        },
        {
          "output_type": "stream",
          "name": "stderr",
          "text": [
            "Epoch 2:  85%|████████▌ | 801/938 [01:46<00:18,  7.50it/s]"
          ]
        },
        {
          "output_type": "stream",
          "name": "stdout",
          "text": [
            "[2,   800] loss: 0.323\n"
          ]
        },
        {
          "output_type": "stream",
          "name": "stderr",
          "text": [
            "Epoch 2: 100%|██████████| 938/938 [02:04<00:00,  7.56it/s]\n"
          ]
        },
        {
          "output_type": "stream",
          "name": "stdout",
          "text": [
            "Finished Training\n"
          ]
        }
      ]
    },
    {
      "cell_type": "markdown",
      "source": [
        "# 5. Evaluation (Finetuning)"
      ],
      "metadata": {
        "id": "GXZcSgludoAl"
      }
    },
    {
      "cell_type": "code",
      "source": [
        "def evaluate(model, testloader, device):\n",
        "    model.eval() # Set the model to evaluation mode\n",
        "    correct = 0\n",
        "    total = 0\n",
        "    with torch.no_grad():\n",
        "        for data in testloader:\n",
        "            images, labels = data[0].to(device), data[1].to(device)\n",
        "            outputs = model(images)\n",
        "            _, predicted = torch.max(outputs.data, 1)\n",
        "            total += labels.size(0)\n",
        "            correct += (predicted == labels).sum().item()\n",
        "\n",
        "    return 100 * correct / total\n",
        "\n",
        "results = []\n",
        "\n",
        "results.append({'base model':'ResNet18',\n",
        "                'prediction': 'Finetuned - Last Layer Only',\n",
        "                'accuracy' : evaluate(resnet18_ft, testloader, device)})\n",
        "\n",
        "results.append({'base model':'ViT-Tiny',\n",
        "                'prediction': 'Finetuned - Last Layer Only',\n",
        "                'accuracy' : evaluate(vit_ft, testloader, device)})\n",
        "results_df = pd.DataFrame(results)\n",
        "results_df"
      ],
      "metadata": {
        "colab": {
          "base_uri": "https://localhost:8080/",
          "height": 125
        },
        "id": "k04SDLwYdoRt",
        "outputId": "8721c7ac-9df0-47df-e103-2c647fb1f361"
      },
      "execution_count": null,
      "outputs": [
        {
          "output_type": "execute_result",
          "data": {
            "text/plain": [
              "  base model                   prediction  accuracy\n",
              "0   ResNet18  Finetuned - Last Layer Only     82.51\n",
              "1   ViT-Tiny  Finetuned - Last Layer Only     87.72"
            ],
            "text/html": [
              "\n",
              "  <div id=\"df-4b17bc17-ecf5-4df5-8707-ac660e5451b6\" class=\"colab-df-container\">\n",
              "    <div>\n",
              "<style scoped>\n",
              "    .dataframe tbody tr th:only-of-type {\n",
              "        vertical-align: middle;\n",
              "    }\n",
              "\n",
              "    .dataframe tbody tr th {\n",
              "        vertical-align: top;\n",
              "    }\n",
              "\n",
              "    .dataframe thead th {\n",
              "        text-align: right;\n",
              "    }\n",
              "</style>\n",
              "<table border=\"1\" class=\"dataframe\">\n",
              "  <thead>\n",
              "    <tr style=\"text-align: right;\">\n",
              "      <th></th>\n",
              "      <th>base model</th>\n",
              "      <th>prediction</th>\n",
              "      <th>accuracy</th>\n",
              "    </tr>\n",
              "  </thead>\n",
              "  <tbody>\n",
              "    <tr>\n",
              "      <th>0</th>\n",
              "      <td>ResNet18</td>\n",
              "      <td>Finetuned - Last Layer Only</td>\n",
              "      <td>82.51</td>\n",
              "    </tr>\n",
              "    <tr>\n",
              "      <th>1</th>\n",
              "      <td>ViT-Tiny</td>\n",
              "      <td>Finetuned - Last Layer Only</td>\n",
              "      <td>87.72</td>\n",
              "    </tr>\n",
              "  </tbody>\n",
              "</table>\n",
              "</div>\n",
              "    <div class=\"colab-df-buttons\">\n",
              "\n",
              "  <div class=\"colab-df-container\">\n",
              "    <button class=\"colab-df-convert\" onclick=\"convertToInteractive('df-4b17bc17-ecf5-4df5-8707-ac660e5451b6')\"\n",
              "            title=\"Convert this dataframe to an interactive table.\"\n",
              "            style=\"display:none;\">\n",
              "\n",
              "  <svg xmlns=\"http://www.w3.org/2000/svg\" height=\"24px\" viewBox=\"0 -960 960 960\">\n",
              "    <path d=\"M120-120v-720h720v720H120Zm60-500h600v-160H180v160Zm220 220h160v-160H400v160Zm0 220h160v-160H400v160ZM180-400h160v-160H180v160Zm440 0h160v-160H620v160ZM180-180h160v-160H180v160Zm440 0h160v-160H620v160Z\"/>\n",
              "  </svg>\n",
              "    </button>\n",
              "\n",
              "  <style>\n",
              "    .colab-df-container {\n",
              "      display:flex;\n",
              "      gap: 12px;\n",
              "    }\n",
              "\n",
              "    .colab-df-convert {\n",
              "      background-color: #E8F0FE;\n",
              "      border: none;\n",
              "      border-radius: 50%;\n",
              "      cursor: pointer;\n",
              "      display: none;\n",
              "      fill: #1967D2;\n",
              "      height: 32px;\n",
              "      padding: 0 0 0 0;\n",
              "      width: 32px;\n",
              "    }\n",
              "\n",
              "    .colab-df-convert:hover {\n",
              "      background-color: #E2EBFA;\n",
              "      box-shadow: 0px 1px 2px rgba(60, 64, 67, 0.3), 0px 1px 3px 1px rgba(60, 64, 67, 0.15);\n",
              "      fill: #174EA6;\n",
              "    }\n",
              "\n",
              "    .colab-df-buttons div {\n",
              "      margin-bottom: 4px;\n",
              "    }\n",
              "\n",
              "    [theme=dark] .colab-df-convert {\n",
              "      background-color: #3B4455;\n",
              "      fill: #D2E3FC;\n",
              "    }\n",
              "\n",
              "    [theme=dark] .colab-df-convert:hover {\n",
              "      background-color: #434B5C;\n",
              "      box-shadow: 0px 1px 3px 1px rgba(0, 0, 0, 0.15);\n",
              "      filter: drop-shadow(0px 1px 2px rgba(0, 0, 0, 0.3));\n",
              "      fill: #FFFFFF;\n",
              "    }\n",
              "  </style>\n",
              "\n",
              "    <script>\n",
              "      const buttonEl =\n",
              "        document.querySelector('#df-4b17bc17-ecf5-4df5-8707-ac660e5451b6 button.colab-df-convert');\n",
              "      buttonEl.style.display =\n",
              "        google.colab.kernel.accessAllowed ? 'block' : 'none';\n",
              "\n",
              "      async function convertToInteractive(key) {\n",
              "        const element = document.querySelector('#df-4b17bc17-ecf5-4df5-8707-ac660e5451b6');\n",
              "        const dataTable =\n",
              "          await google.colab.kernel.invokeFunction('convertToInteractive',\n",
              "                                                    [key], {});\n",
              "        if (!dataTable) return;\n",
              "\n",
              "        const docLinkHtml = 'Like what you see? Visit the ' +\n",
              "          '<a target=\"_blank\" href=https://colab.research.google.com/notebooks/data_table.ipynb>data table notebook</a>'\n",
              "          + ' to learn more about interactive tables.';\n",
              "        element.innerHTML = '';\n",
              "        dataTable['output_type'] = 'display_data';\n",
              "        await google.colab.output.renderOutput(dataTable, element);\n",
              "        const docLink = document.createElement('div');\n",
              "        docLink.innerHTML = docLinkHtml;\n",
              "        element.appendChild(docLink);\n",
              "      }\n",
              "    </script>\n",
              "  </div>\n",
              "\n",
              "\n",
              "<div id=\"df-b6c10cb5-2de0-42d3-ba34-a5924c87d810\">\n",
              "  <button class=\"colab-df-quickchart\" onclick=\"quickchart('df-b6c10cb5-2de0-42d3-ba34-a5924c87d810')\"\n",
              "            title=\"Suggest charts\"\n",
              "            style=\"display:none;\">\n",
              "\n",
              "<svg xmlns=\"http://www.w3.org/2000/svg\" height=\"24px\"viewBox=\"0 0 24 24\"\n",
              "     width=\"24px\">\n",
              "    <g>\n",
              "        <path d=\"M19 3H5c-1.1 0-2 .9-2 2v14c0 1.1.9 2 2 2h14c1.1 0 2-.9 2-2V5c0-1.1-.9-2-2-2zM9 17H7v-7h2v7zm4 0h-2V7h2v10zm4 0h-2v-4h2v4z\"/>\n",
              "    </g>\n",
              "</svg>\n",
              "  </button>\n",
              "\n",
              "<style>\n",
              "  .colab-df-quickchart {\n",
              "      --bg-color: #E8F0FE;\n",
              "      --fill-color: #1967D2;\n",
              "      --hover-bg-color: #E2EBFA;\n",
              "      --hover-fill-color: #174EA6;\n",
              "      --disabled-fill-color: #AAA;\n",
              "      --disabled-bg-color: #DDD;\n",
              "  }\n",
              "\n",
              "  [theme=dark] .colab-df-quickchart {\n",
              "      --bg-color: #3B4455;\n",
              "      --fill-color: #D2E3FC;\n",
              "      --hover-bg-color: #434B5C;\n",
              "      --hover-fill-color: #FFFFFF;\n",
              "      --disabled-bg-color: #3B4455;\n",
              "      --disabled-fill-color: #666;\n",
              "  }\n",
              "\n",
              "  .colab-df-quickchart {\n",
              "    background-color: var(--bg-color);\n",
              "    border: none;\n",
              "    border-radius: 50%;\n",
              "    cursor: pointer;\n",
              "    display: none;\n",
              "    fill: var(--fill-color);\n",
              "    height: 32px;\n",
              "    padding: 0;\n",
              "    width: 32px;\n",
              "  }\n",
              "\n",
              "  .colab-df-quickchart:hover {\n",
              "    background-color: var(--hover-bg-color);\n",
              "    box-shadow: 0 1px 2px rgba(60, 64, 67, 0.3), 0 1px 3px 1px rgba(60, 64, 67, 0.15);\n",
              "    fill: var(--button-hover-fill-color);\n",
              "  }\n",
              "\n",
              "  .colab-df-quickchart-complete:disabled,\n",
              "  .colab-df-quickchart-complete:disabled:hover {\n",
              "    background-color: var(--disabled-bg-color);\n",
              "    fill: var(--disabled-fill-color);\n",
              "    box-shadow: none;\n",
              "  }\n",
              "\n",
              "  .colab-df-spinner {\n",
              "    border: 2px solid var(--fill-color);\n",
              "    border-color: transparent;\n",
              "    border-bottom-color: var(--fill-color);\n",
              "    animation:\n",
              "      spin 1s steps(1) infinite;\n",
              "  }\n",
              "\n",
              "  @keyframes spin {\n",
              "    0% {\n",
              "      border-color: transparent;\n",
              "      border-bottom-color: var(--fill-color);\n",
              "      border-left-color: var(--fill-color);\n",
              "    }\n",
              "    20% {\n",
              "      border-color: transparent;\n",
              "      border-left-color: var(--fill-color);\n",
              "      border-top-color: var(--fill-color);\n",
              "    }\n",
              "    30% {\n",
              "      border-color: transparent;\n",
              "      border-left-color: var(--fill-color);\n",
              "      border-top-color: var(--fill-color);\n",
              "      border-right-color: var(--fill-color);\n",
              "    }\n",
              "    40% {\n",
              "      border-color: transparent;\n",
              "      border-right-color: var(--fill-color);\n",
              "      border-top-color: var(--fill-color);\n",
              "    }\n",
              "    60% {\n",
              "      border-color: transparent;\n",
              "      border-right-color: var(--fill-color);\n",
              "    }\n",
              "    80% {\n",
              "      border-color: transparent;\n",
              "      border-right-color: var(--fill-color);\n",
              "      border-bottom-color: var(--fill-color);\n",
              "    }\n",
              "    90% {\n",
              "      border-color: transparent;\n",
              "      border-bottom-color: var(--fill-color);\n",
              "    }\n",
              "  }\n",
              "</style>\n",
              "\n",
              "  <script>\n",
              "    async function quickchart(key) {\n",
              "      const quickchartButtonEl =\n",
              "        document.querySelector('#' + key + ' button');\n",
              "      quickchartButtonEl.disabled = true;  // To prevent multiple clicks.\n",
              "      quickchartButtonEl.classList.add('colab-df-spinner');\n",
              "      try {\n",
              "        const charts = await google.colab.kernel.invokeFunction(\n",
              "            'suggestCharts', [key], {});\n",
              "      } catch (error) {\n",
              "        console.error('Error during call to suggestCharts:', error);\n",
              "      }\n",
              "      quickchartButtonEl.classList.remove('colab-df-spinner');\n",
              "      quickchartButtonEl.classList.add('colab-df-quickchart-complete');\n",
              "    }\n",
              "    (() => {\n",
              "      let quickchartButtonEl =\n",
              "        document.querySelector('#df-b6c10cb5-2de0-42d3-ba34-a5924c87d810 button');\n",
              "      quickchartButtonEl.style.display =\n",
              "        google.colab.kernel.accessAllowed ? 'block' : 'none';\n",
              "    })();\n",
              "  </script>\n",
              "</div>\n",
              "\n",
              "  <div id=\"id_0491d589-08a8-42bd-955e-5a3242c5faef\">\n",
              "    <style>\n",
              "      .colab-df-generate {\n",
              "        background-color: #E8F0FE;\n",
              "        border: none;\n",
              "        border-radius: 50%;\n",
              "        cursor: pointer;\n",
              "        display: none;\n",
              "        fill: #1967D2;\n",
              "        height: 32px;\n",
              "        padding: 0 0 0 0;\n",
              "        width: 32px;\n",
              "      }\n",
              "\n",
              "      .colab-df-generate:hover {\n",
              "        background-color: #E2EBFA;\n",
              "        box-shadow: 0px 1px 2px rgba(60, 64, 67, 0.3), 0px 1px 3px 1px rgba(60, 64, 67, 0.15);\n",
              "        fill: #174EA6;\n",
              "      }\n",
              "\n",
              "      [theme=dark] .colab-df-generate {\n",
              "        background-color: #3B4455;\n",
              "        fill: #D2E3FC;\n",
              "      }\n",
              "\n",
              "      [theme=dark] .colab-df-generate:hover {\n",
              "        background-color: #434B5C;\n",
              "        box-shadow: 0px 1px 3px 1px rgba(0, 0, 0, 0.15);\n",
              "        filter: drop-shadow(0px 1px 2px rgba(0, 0, 0, 0.3));\n",
              "        fill: #FFFFFF;\n",
              "      }\n",
              "    </style>\n",
              "    <button class=\"colab-df-generate\" onclick=\"generateWithVariable('results_df')\"\n",
              "            title=\"Generate code using this dataframe.\"\n",
              "            style=\"display:none;\">\n",
              "\n",
              "  <svg xmlns=\"http://www.w3.org/2000/svg\" height=\"24px\"viewBox=\"0 0 24 24\"\n",
              "       width=\"24px\">\n",
              "    <path d=\"M7,19H8.4L18.45,9,17,7.55,7,17.6ZM5,21V16.75L18.45,3.32a2,2,0,0,1,2.83,0l1.4,1.43a1.91,1.91,0,0,1,.58,1.4,1.91,1.91,0,0,1-.58,1.4L9.25,21ZM18.45,9,17,7.55Zm-12,3A5.31,5.31,0,0,0,4.9,8.1,5.31,5.31,0,0,0,1,6.5,5.31,5.31,0,0,0,4.9,4.9,5.31,5.31,0,0,0,6.5,1,5.31,5.31,0,0,0,8.1,4.9,5.31,5.31,0,0,0,12,6.5,5.46,5.46,0,0,0,6.5,12Z\"/>\n",
              "  </svg>\n",
              "    </button>\n",
              "    <script>\n",
              "      (() => {\n",
              "      const buttonEl =\n",
              "        document.querySelector('#id_0491d589-08a8-42bd-955e-5a3242c5faef button.colab-df-generate');\n",
              "      buttonEl.style.display =\n",
              "        google.colab.kernel.accessAllowed ? 'block' : 'none';\n",
              "\n",
              "      buttonEl.onclick = () => {\n",
              "        google.colab.notebook.generateWithVariable('results_df');\n",
              "      }\n",
              "      })();\n",
              "    </script>\n",
              "  </div>\n",
              "\n",
              "    </div>\n",
              "  </div>\n"
            ],
            "application/vnd.google.colaboratory.intrinsic+json": {
              "type": "dataframe",
              "variable_name": "results_df",
              "summary": "{\n  \"name\": \"results_df\",\n  \"rows\": 2,\n  \"fields\": [\n    {\n      \"column\": \"base model\",\n      \"properties\": {\n        \"dtype\": \"string\",\n        \"num_unique_values\": 2,\n        \"samples\": [\n          \"ViT-Tiny\",\n          \"ResNet18\"\n        ],\n        \"semantic_type\": \"\",\n        \"description\": \"\"\n      }\n    },\n    {\n      \"column\": \"prediction\",\n      \"properties\": {\n        \"dtype\": \"string\",\n        \"num_unique_values\": 1,\n        \"samples\": [\n          \"Finetuned - Last Layer Only\"\n        ],\n        \"semantic_type\": \"\",\n        \"description\": \"\"\n      }\n    },\n    {\n      \"column\": \"accuracy\",\n      \"properties\": {\n        \"dtype\": \"number\",\n        \"std\": 3.6840263299819083,\n        \"min\": 82.51,\n        \"max\": 87.72,\n        \"num_unique_values\": 2,\n        \"samples\": [\n          87.72\n        ],\n        \"semantic_type\": \"\",\n        \"description\": \"\"\n      }\n    }\n  ]\n}"
            }
          },
          "metadata": {},
          "execution_count": 33
        }
      ]
    },
    {
      "cell_type": "markdown",
      "source": [
        "# 6. Embedding Extraction"
      ],
      "metadata": {
        "id": "mM27QlP3ds1N"
      }
    },
    {
      "cell_type": "code",
      "source": [
        "def extract_embeddings(model, dataloader, device):\n",
        "    embeddings = []\n",
        "    labels = []\n",
        "    with torch.no_grad():\n",
        "        for images, label_batch in tqdm.tqdm(dataloader, desc=\"Extracting Embeddings\"):\n",
        "            images = images.to(device)\n",
        "            output = model(images)  # Get embeddings\n",
        "            embeddings.append(output.cpu().numpy())\n",
        "            labels.append(label_batch.cpu().numpy())\n",
        "\n",
        "    return np.concatenate(embeddings), np.concatenate(labels)\n",
        "\n",
        "print(\"Extracting ResNet18 embeddings...\")\n",
        "resnet_embeddings_train, train_labels = extract_embeddings(resnet18_emb, trainloader, device)\n",
        "print(resnet_embeddings_train.shape)\n",
        "resnet_embeddings_test, test_labels = extract_embeddings(resnet18_emb, testloader, device)\n",
        "\n",
        "print(\"Extracting ViT-Tiny embeddings...\")\n",
        "vit_embeddings_train, train_labels = extract_embeddings(vit_emb, trainloader, device)\n",
        "print(vit_embeddings_train.shape)\n",
        "vit_embeddings_test, test_labels = extract_embeddings(vit_emb, testloader, device)"
      ],
      "metadata": {
        "colab": {
          "base_uri": "https://localhost:8080/"
        },
        "id": "dYVFl4oSds_W",
        "outputId": "ab5cd143-b1f3-4704-bbb3-63b874f7d806"
      },
      "execution_count": null,
      "outputs": [
        {
          "output_type": "stream",
          "name": "stdout",
          "text": [
            "Extracting ResNet18 embeddings...\n"
          ]
        },
        {
          "output_type": "stream",
          "name": "stderr",
          "text": [
            "Extracting Embeddings: 100%|██████████| 938/938 [01:59<00:00,  7.83it/s]\n",
            "Extracting Embeddings: 100%|██████████| 157/157 [00:18<00:00,  8.47it/s]\n"
          ]
        },
        {
          "output_type": "stream",
          "name": "stdout",
          "text": [
            "Extracting ViT-Tiny embeddings...\n"
          ]
        },
        {
          "output_type": "stream",
          "name": "stderr",
          "text": [
            "Extracting Embeddings: 100%|██████████| 938/938 [01:55<00:00,  8.15it/s]\n",
            "Extracting Embeddings: 100%|██████████| 157/157 [00:21<00:00,  7.45it/s]\n"
          ]
        }
      ]
    },
    {
      "cell_type": "markdown",
      "source": [
        "# 7. Train XGBoost on Embeddings"
      ],
      "metadata": {
        "id": "twr5-Q4Cd1jF"
      }
    },
    {
      "cell_type": "code",
      "source": [
        "def train_xgboost(embeddings_train, train_labels, embeddings_test, test_labels):\n",
        "    xgboost_model = xgb.XGBClassifier(objective='multi:softmax',\n",
        "                                      n_estimators=50,\n",
        "                                      tree_method='hist', n_jobs=-1,\n",
        "                                      num_class=10, eval_metric='mlogloss')\n",
        "    xgboost_model.fit(embeddings_train, train_labels)\n",
        "    predictions = xgboost_model.predict(embeddings_test)\n",
        "    accuracy = sklearn.metrics.accuracy_score(test_labels, predictions)\n",
        "    return accuracy * 100\n",
        "\n",
        "results.append({'base model':'ResNet18',\n",
        "                'prediction': 'XGBoost',\n",
        "                'accuracy' : train_xgboost(resnet_embeddings_train, train_labels, resnet_embeddings_test, test_labels)})\n",
        "\n",
        "results.append({'base model':'ViT-Tiny',\n",
        "                'prediction': 'XGBoost',\n",
        "                'accuracy' : train_xgboost(vit_embeddings_train, train_labels, vit_embeddings_test, test_labels)})\n",
        "results_df = pd.DataFrame(results)\n",
        "results_df"
      ],
      "metadata": {
        "id": "J9Hzxt3fbOf4"
      },
      "execution_count": null,
      "outputs": []
    }
  ]
}